{
 "cells": [
  {
   "cell_type": "markdown",
   "id": "518410fa",
   "metadata": {},
   "source": [
    "# 10단원 핵심정리\n",
    "\n",
    "넘파이는 리스트가 아니라 배열로 다차원 데이터를 다룬다.  \n",
    "배열은 동일한 자료형을 연속해서 가진 데이터 구조로 읽고 쓰는 일을 빠르게 할 수 있다.  \n",
    "리스트와 달리 넘파이 배열들을 서로 연산하면 벡터와 행렬처럼 다루어진다.  \n",
    "넘파이 배열도 리스트와 다른 반복가능 객체처럼 슬라이싱을 적용할 수 있다.  \n",
    "넘파이는 넘파이만의 스타일로 슬라이싱을 할 수 있으며, 리스트 등과 다른 방식의 결과가 나온다.  \n",
    "슬라이싱과 별개로 논리적 조건을 부여하여 항목을 가져오는 일도 가능하다.  \n",
    "\n",
    "# 심화문제풀이  \n",
    "\n",
    "## 1."
   ]
  },
  {
   "cell_type": "code",
   "execution_count": 6,
   "id": "74b577ad",
   "metadata": {},
   "outputs": [
    {
     "name": "stdout",
     "output_type": "stream",
     "text": [
      "[ 1  2  3  4  5  6  7  8  9 10 11 12 13 14 15 16 17 18 19 20]\n",
      "[20 19 18 17 16 15 14 13 12 11 10  9  8  7  6  5  4  3  2  1]\n",
      "num_arr 내의 모든 원소의 합:  210\n",
      "[[ 1  2  3  4]\n",
      " [ 5  6  7  8]\n",
      " [ 9 10 11 12]\n",
      " [13 14 15 16]\n",
      " [17 18 19 20]]\n"
     ]
    }
   ],
   "source": [
    "import numpy as np\n",
    "num_arr=np.array(range(1,21)) # num_arr=np.arange(1,21)\n",
    "print(num_arr)\n",
    "print(num_arr[-1::-1])\n",
    "print(\"num_arr 내의 모든 원소의 합: \",num_arr.sum(axis=0))  #print(num_arr[::-1]) #num_arr.sum() or num_arr.sum(num_arr)\n",
    "print(num_arr.reshape(5,4))"
   ]
  },
  {
   "cell_type": "markdown",
   "id": "1f1f2b44",
   "metadata": {},
   "source": [
    "## 2."
   ]
  },
  {
   "cell_type": "code",
   "execution_count": 13,
   "id": "8e6d9037",
   "metadata": {},
   "outputs": [
    {
     "data": {
      "text/plain": [
       "array([[ 0,  1,  2,  3,  4],\n",
       "       [ 5,  6,  7,  8,  9],\n",
       "       [10, 11, 12, 13, 14],\n",
       "       [15, 16, 17, 18, 19],\n",
       "       [20, 21, 22, 23, 24]])"
      ]
     },
     "execution_count": 13,
     "metadata": {},
     "output_type": "execute_result"
    }
   ],
   "source": [
    "n = np.array(range(25))\n",
    "n_arr=n.reshape(5,-1) #n_arr=n.reshape(5,5)\n",
    "n_arr"
   ]
  },
  {
   "cell_type": "code",
   "execution_count": 16,
   "id": "ae425172",
   "metadata": {},
   "outputs": [
    {
     "name": "stdout",
     "output_type": "stream",
     "text": [
      "첫 원소 :  0\n",
      "마지막 원소 :  24\n"
     ]
    }
   ],
   "source": [
    "print(\"첫 원소 : \",n_arr[0,0])\n",
    "print(\"마지막 원소 : \",n_arr[-1,-1])"
   ]
  },
  {
   "cell_type": "code",
   "execution_count": 24,
   "id": "dca7ee2d",
   "metadata": {},
   "outputs": [
    {
     "data": {
      "text/plain": [
       "array([[0, 1, 2, 3, 4],\n",
       "       [5, 6, 7, 8, 9]])"
      ]
     },
     "execution_count": 24,
     "metadata": {},
     "output_type": "execute_result"
    }
   ],
   "source": [
    "n_arr[:2,:] # n_arr[:2]"
   ]
  },
  {
   "cell_type": "code",
   "execution_count": 25,
   "id": "ab582afe",
   "metadata": {},
   "outputs": [
    {
     "data": {
      "text/plain": [
       "array([[10, 11, 12, 13, 14],\n",
       "       [15, 16, 17, 18, 19],\n",
       "       [20, 21, 22, 23, 24]])"
      ]
     },
     "execution_count": 25,
     "metadata": {},
     "output_type": "execute_result"
    }
   ],
   "source": [
    "n_arr[2:,:]# n_arr[2:]"
   ]
  },
  {
   "cell_type": "code",
   "execution_count": 26,
   "id": "debf7371",
   "metadata": {},
   "outputs": [
    {
     "data": {
      "text/plain": [
       "array([[ 0,  2,  4],\n",
       "       [ 5,  7,  9],\n",
       "       [10, 12, 14],\n",
       "       [15, 17, 19],\n",
       "       [20, 22, 24]])"
      ]
     },
     "execution_count": 26,
     "metadata": {},
     "output_type": "execute_result"
    }
   ],
   "source": [
    "n_arr[:,0::2]"
   ]
  },
  {
   "cell_type": "code",
   "execution_count": 27,
   "id": "d8fde742",
   "metadata": {},
   "outputs": [
    {
     "data": {
      "text/plain": [
       "array([[ 0,  2,  4],\n",
       "       [10, 12, 14],\n",
       "       [20, 22, 24]])"
      ]
     },
     "execution_count": 27,
     "metadata": {},
     "output_type": "execute_result"
    }
   ],
   "source": [
    "n_arr[0::2,0::2]"
   ]
  },
  {
   "cell_type": "code",
   "execution_count": 28,
   "id": "4b2fc1b1",
   "metadata": {},
   "outputs": [
    {
     "data": {
      "text/plain": [
       "array([[0, 1],\n",
       "       [2, 3],\n",
       "       [4, 5],\n",
       "       [6, 7],\n",
       "       [8, 9]])"
      ]
     },
     "execution_count": 28,
     "metadata": {},
     "output_type": "execute_result"
    }
   ],
   "source": [
    "n_arr[:2,:].reshape(5,2)"
   ]
  },
  {
   "cell_type": "markdown",
   "id": "9f3653de",
   "metadata": {},
   "source": [
    "## 3."
   ]
  },
  {
   "cell_type": "code",
   "execution_count": 19,
   "id": "d20686e0",
   "metadata": {},
   "outputs": [
    {
     "data": {
      "text/plain": [
       "array([[[0.73046572, 0.02634488, 0.39917172],\n",
       "        [0.60303311, 0.21501511, 0.74756583],\n",
       "        [0.86719133, 0.47719832, 0.40635305]],\n",
       "\n",
       "       [[0.15827718, 0.14045152, 0.02313664],\n",
       "        [0.20503655, 0.67189305, 0.08689841],\n",
       "        [0.1178483 , 0.9565623 , 0.77797491]],\n",
       "\n",
       "       [[0.60606443, 0.57862247, 0.86279012],\n",
       "        [0.55689884, 0.3957553 , 0.10590149],\n",
       "        [0.3750773 , 0.25900385, 0.20375412]]])"
      ]
     },
     "execution_count": 19,
     "metadata": {},
     "output_type": "execute_result"
    }
   ],
   "source": [
    "a=np.random.rand(3,3,3)\n",
    "a "
   ]
  },
  {
   "cell_type": "code",
   "execution_count": 33,
   "id": "bd00275f",
   "metadata": {},
   "outputs": [
    {
     "name": "stdout",
     "output_type": "stream",
     "text": [
      "a의 원소들 중 최댓값 :  0.95106467987996\n"
     ]
    }
   ],
   "source": [
    "print(\"a의 원소들 중 최댓값 : \",a.max())"
   ]
  },
  {
   "cell_type": "code",
   "execution_count": 34,
   "id": "04f60180",
   "metadata": {},
   "outputs": [
    {
     "name": "stdout",
     "output_type": "stream",
     "text": [
      "a의 원소들 중 최댓값의 위치:  15\n"
     ]
    }
   ],
   "source": [
    "print(\"a의 원소들 중 최댓값의 위치: \",a.argmax())"
   ]
  },
  {
   "cell_type": "markdown",
   "id": "c38f7c69",
   "metadata": {},
   "source": [
    "## 4."
   ]
  },
  {
   "cell_type": "code",
   "execution_count": 8,
   "id": "14c2e34b",
   "metadata": {},
   "outputs": [
    {
     "data": {
      "text/plain": [
       "array([[1, 0, 1, 0, 1],\n",
       "       [0, 1, 0, 1, 0],\n",
       "       [1, 0, 1, 0, 1],\n",
       "       [0, 1, 0, 1, 0],\n",
       "       [1, 0, 1, 0, 1]])"
      ]
     },
     "execution_count": 8,
     "metadata": {},
     "output_type": "execute_result"
    }
   ],
   "source": [
    "c=np.array([1,0]*13)\n",
    "d=c[:-1]\n",
    "e=d.reshape(5,5)\n",
    "e"
   ]
  },
  {
   "cell_type": "code",
   "execution_count": 25,
   "id": "d08a6fc5",
   "metadata": {},
   "outputs": [
    {
     "data": {
      "text/plain": [
       "array([1, 0, 1, 0, 1, 0, 1, 0, 1, 0, 1, 0, 1, 0, 1, 0, 1, 0, 1, 0, 1, 0,\n",
       "       1, 0, 1])"
      ]
     },
     "execution_count": 25,
     "metadata": {},
     "output_type": "execute_result"
    }
   ],
   "source": [
    "A = np.ones(25, dtype=int)\n",
    "A[1::2] = 0\n",
    "A"
   ]
  },
  {
   "cell_type": "code",
   "execution_count": 28,
   "id": "21af1289",
   "metadata": {},
   "outputs": [
    {
     "data": {
      "text/plain": [
       "array([0, 0, 0, 0, 0, 0, 0, 0, 0, 0, 0, 0, 0, 0, 0, 0, 0, 0, 0, 0, 0, 0,\n",
       "       0, 0, 0])"
      ]
     },
     "execution_count": 28,
     "metadata": {},
     "output_type": "execute_result"
    }
   ],
   "source": [
    "A= np.zeros(25 , dtype=int)\n",
    "A"
   ]
  },
  {
   "cell_type": "code",
   "execution_count": 32,
   "id": "ee4a5d07",
   "metadata": {},
   "outputs": [
    {
     "data": {
      "text/plain": [
       "array([1, 0, 1, 0, 1, 0, 1, 0, 1, 0, 1, 0, 1, 0, 1, 0, 1, 0, 1, 0, 1, 0,\n",
       "       1, 0, 1])"
      ]
     },
     "execution_count": 32,
     "metadata": {},
     "output_type": "execute_result"
    }
   ],
   "source": [
    "A=np.array([i%2 for i in range(1,26)])\n",
    "A"
   ]
  },
  {
   "cell_type": "code",
   "execution_count": 12,
   "id": "ff8d7550",
   "metadata": {},
   "outputs": [
    {
     "name": "stdout",
     "output_type": "stream",
     "text": [
      "행렬의 행 방향 성분의 합 : [3 2 3 2 3]\n"
     ]
    }
   ],
   "source": [
    "print(f\"행렬의 행 방향 성분의 합 : {e.sum(axis = 0)}\") # 행 = 세로 ,열 = 가로"
   ]
  },
  {
   "cell_type": "markdown",
   "id": "f87a6b98",
   "metadata": {},
   "source": [
    "## 5."
   ]
  },
  {
   "cell_type": "code",
   "execution_count": 36,
   "id": "d1e9e4ac",
   "metadata": {},
   "outputs": [
    {
     "name": "stdout",
     "output_type": "stream",
     "text": [
      "10번째 원소 :  9\n",
      "20번째 원소 :  19\n"
     ]
    }
   ],
   "source": [
    "a= np.arange(0,32).reshape(4,4,2)\n",
    "\n",
    "print(\"10번째 원소 : \",a.flatten()[9])\n",
    "print(\"20번째 원소 : \",a.flatten()[19])# a.reshape[-1][19]"
   ]
  },
  {
   "cell_type": "markdown",
   "id": "95dd9f96",
   "metadata": {},
   "source": [
    "## 6."
   ]
  },
  {
   "cell_type": "code",
   "execution_count": 36,
   "id": "46981d15",
   "metadata": {},
   "outputs": [
    {
     "name": "stdout",
     "output_type": "stream",
     "text": [
      "[[ 1.          0.99566589  0.9063786  -0.11193341]\n",
      " [ 0.99566589  1.          0.90801123 -0.11184749]\n",
      " [ 0.9063786   0.90801123  1.         -0.13255714]\n",
      " [-0.11193341 -0.11184749 -0.13255714  1.        ]]\n"
     ]
    }
   ],
   "source": [
    "x1=[i for i in range(100)]\n",
    "x2=[i + np.random.randint(1,10) for i in range(100)]\n",
    "x3=[i + np.random.randint(1,50) for i in range(100)]\n",
    "x4=[np.random.randint(1,100) for i in range(100)]\n",
    "corr=np.corrcoef([x1,x2,x3,x4])\n",
    "print(corr)"
   ]
  },
  {
   "cell_type": "code",
   "execution_count": 42,
   "id": "f3424d34",
   "metadata": {},
   "outputs": [
    {
     "name": "stdout",
     "output_type": "stream",
     "text": [
      "[[ 1.          0.99608017  0.90828174 -0.0056526 ]\n",
      " [ 0.99608017  1.          0.90877723 -0.01348598]\n",
      " [ 0.90828174  0.90877723  1.          0.05287657]\n",
      " [-0.0056526  -0.01348598  0.05287657  1.        ]]\n"
     ]
    },
    {
     "data": {
      "text/plain": [
       "array([[1.        , 0.99608017],\n",
       "       [0.99608017, 1.        ]])"
      ]
     },
     "execution_count": 42,
     "metadata": {},
     "output_type": "execute_result"
    }
   ],
   "source": [
    "x1=np.arange(100)\n",
    "x2=x1+np.random.randint(1,10,size=(100,))\n",
    "x3=x1+np.random.randint(1,50,size=(100,))\n",
    "x4=np.random.randint(1,100,size=(100,))\n",
    "\n",
    "print(np.corrcoef([x1,x2,x3,x4]))\n",
    "np.corrcoef(x1,x2)"
   ]
  },
  {
   "cell_type": "markdown",
   "id": "1f9f39de",
   "metadata": {},
   "source": [
    "1) x1 과 가장 상관관계가 높은 리스트:x2  \n",
    "2) x1 과 가장 상관관계가 낮은 리스트:x4"
   ]
  }
 ],
 "metadata": {
  "kernelspec": {
   "display_name": "Python 3 (ipykernel)",
   "language": "python",
   "name": "python3"
  },
  "language_info": {
   "codemirror_mode": {
    "name": "ipython",
    "version": 3
   },
   "file_extension": ".py",
   "mimetype": "text/x-python",
   "name": "python",
   "nbconvert_exporter": "python",
   "pygments_lexer": "ipython3",
   "version": "3.11.2"
  }
 },
 "nbformat": 4,
 "nbformat_minor": 5
}
